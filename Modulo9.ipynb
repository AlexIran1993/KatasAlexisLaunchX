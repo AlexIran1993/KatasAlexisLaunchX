{
 "cells": [
  {
   "cell_type": "markdown",
   "metadata": {},
   "source": [
    "## Trabajar con argumentos en funciones"
   ]
  },
  {
   "cell_type": "code",
   "execution_count": 2,
   "metadata": {},
   "outputs": [
    {
     "name": "stdout",
     "output_type": "stream",
     "text": [
      " Reporte de combustible:\n",
      "    Combistible promedio: 78.33333333333333%\n",
      "    Combistible del tanque 1: 80\n",
      "    Combustible del tanque 2: 70\n",
      "    Combustible del tanque 3: 85\n",
      "    \n",
      "82.0\n",
      "Reporte de combustible\n",
      "    promedio total: 78.0\n",
      "    combustible del tanque 1: 88,\n",
      "    combustible del tanque 2: 76,\n",
      "    combustible del tanque 3: 70\n",
      "    \n"
     ]
    }
   ],
   "source": [
    "def informe(tanque1, tanque2, tanque3):\n",
    "    combustible_promedio = (tanque1 + tanque2 + tanque3) / 3\n",
    "    return f\"\"\" Reporte de combustible:\n",
    "    Combistible promedio: {combustible_promedio}%\n",
    "    Combistible del tanque 1: {tanque1}\n",
    "    Combustible del tanque 2: {tanque2}\n",
    "    Combustible del tanque 3: {tanque3}\n",
    "    \"\"\"\n",
    "\n",
    "print(informe(80,70,85))\n",
    "\n",
    "def promedio(lista):\n",
    "    total = sum(lista)\n",
    "    cantidad = len(lista)\n",
    "    return total / cantidad\n",
    "\n",
    "print(promedio([80, 85, 81]))\n",
    "\n",
    "def reporteActualizado(tanque1, tanque2, tanque3):\n",
    "    return f\"\"\"Reporte de combustible\n",
    "    promedio total: {promedio([tanque1, tanque2, tanque3])}\n",
    "    combustible del tanque 1: {tanque1},\n",
    "    combustible del tanque 2: {tanque2},\n",
    "    combustible del tanque 3: {tanque3}\n",
    "    \"\"\"\n",
    "\n",
    "print(reporteActualizado(88,76,70))\n"
   ]
  },
  {
   "cell_type": "markdown",
   "metadata": {},
   "source": [
    "## Trabajo con argumentos de palabra clave"
   ]
  },
  {
   "cell_type": "code",
   "execution_count": 4,
   "metadata": {},
   "outputs": [
    {
     "name": "stdout",
     "output_type": "stream",
     "text": [
      "Reporte de la mision\n",
      "    Destino de la mision: Moon,\n",
      "    Total de horas de viaje: 66,\n",
      "    total de combustible: 500000\n",
      "    \n",
      "\n",
      "    Destino de la mision: Moon,\n",
      "    Total de horas de viaje: 76,\n",
      "    Total de combustible: 500000\n",
      "    \n"
     ]
    }
   ],
   "source": [
    "def informe_preciso(pre_lanzamiento, tiempo_vuelo, destino, tanque_externo, tanque_interno):\n",
    "    return f\"\"\"Reporte de la mision\n",
    "    Destino de la mision: {destino},\n",
    "    Total de horas de viaje: {pre_lanzamiento + tiempo_vuelo},\n",
    "    total de combustible: {tanque_externo + tanque_interno}\n",
    "    \"\"\"\n",
    "\n",
    "print(informe_preciso(14, 52, \"Moon\", 200000, 300000))\n",
    "\n",
    "def informe_preciso_2(destino, *minutos, **combustible):\n",
    "    return f\"\"\"\n",
    "    Destino de la mision: {destino},\n",
    "    Total de horas de viaje: {sum(minutos)},\n",
    "    Total de combustible: {sum(combustible.values())}\n",
    "    \"\"\"\n",
    "\n",
    "print(informe_preciso_2(\"Moon\", 10, 15, 51, tanque_interno = 300000, tanque_externo = 200000))"
   ]
  }
 ],
 "metadata": {
  "interpreter": {
   "hash": "295126bd69f3363f756454f7242d2e419dd32ecf61b6529fd7621954a2cfccb0"
  },
  "kernelspec": {
   "display_name": "Python 3.10.2 64-bit",
   "language": "python",
   "name": "python3"
  },
  "language_info": {
   "codemirror_mode": {
    "name": "ipython",
    "version": 3
   },
   "file_extension": ".py",
   "mimetype": "text/x-python",
   "name": "python",
   "nbconvert_exporter": "python",
   "pygments_lexer": "ipython3",
   "version": "3.10.2"
  },
  "orig_nbformat": 4
 },
 "nbformat": 4,
 "nbformat_minor": 2
}
