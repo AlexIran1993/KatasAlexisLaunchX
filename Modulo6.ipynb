{
 "cells": [
  {
   "cell_type": "markdown",
   "metadata": {},
   "source": [
    "\n",
    "## Crear Y usar listas python"
   ]
  },
  {
   "cell_type": "code",
   "execution_count": 3,
   "metadata": {},
   "outputs": [
    {
     "name": "stdout",
     "output_type": "stream",
     "text": [
      "El sistema solar se compone de 8 planetas\n",
      "La cantidad de planetasen el sistema solar es de 9 y el ultmo planeta es Pluto\n"
     ]
    }
   ],
   "source": [
    "planets = ['Mercurio', 'Venus', 'Tierra', 'Marte', 'Jupiter', 'Saturno', 'Urano', 'Neptuno']\n",
    "\n",
    "cantidad = len(planets)\n",
    "print(f'El sistema solar se compone de {cantidad} planetas')\n",
    "\n",
    "planets.append('Pluto')\n",
    "print(f'La cantidad de planetasen el sistema solar es de {len(planets)} y el ultmo planeta es {planets[-1]}')"
   ]
  },
  {
   "cell_type": "markdown",
   "metadata": {},
   "source": [
    "## Trabajando con datos de una lista"
   ]
  },
  {
   "cell_type": "code",
   "execution_count": 9,
   "metadata": {},
   "outputs": [
    {
     "name": "stdout",
     "output_type": "stream",
     "text": [
      "Estos son los planetas mas cercanos al sol que Mercurio\n",
      "[]\n",
      "Estos son los planetas mas alejados al sol que Mercurio\n",
      "['Venus', 'Tierra', 'Marte', 'Jupiter', 'Saturno', 'Urano', 'Neptuno']\n"
     ]
    }
   ],
   "source": [
    "planets = ['Mercurio', 'Venus', 'Tierra', 'Marte', 'Jupiter', 'Saturno', 'Urano', 'Neptuno']\n",
    "\n",
    "planeta = input(\"Ingresa el nombre de un planeta del sistema solar,\").capitalize()\n",
    "\n",
    "if planeta in planets:\n",
    "    planeta_cercano = planets.index(planeta)\n",
    "    print(f\"Estos son los planetas mas cercanos al sol que {planeta}\")\n",
    "    print(planets[0 : planeta_cercano])\n",
    "\n",
    "    print(f\"Estos son los planetas mas alejados al sol que {planeta}\")\n",
    "    print(planets[planeta_cercano + 1 :])\n",
    "else:\n",
    "    print(f\"El planeta {planeta} no se encuentra dentro del sistema solar.\")\n"
   ]
  }
 ],
 "metadata": {
  "interpreter": {
   "hash": "295126bd69f3363f756454f7242d2e419dd32ecf61b6529fd7621954a2cfccb0"
  },
  "kernelspec": {
   "display_name": "Python 3.10.2 64-bit",
   "language": "python",
   "name": "python3"
  },
  "language_info": {
   "codemirror_mode": {
    "name": "ipython",
    "version": 3
   },
   "file_extension": ".py",
   "mimetype": "text/x-python",
   "name": "python",
   "nbconvert_exporter": "python",
   "pygments_lexer": "ipython3",
   "version": "3.10.2"
  },
  "orig_nbformat": 4
 },
 "nbformat": 4,
 "nbformat_minor": 2
}
