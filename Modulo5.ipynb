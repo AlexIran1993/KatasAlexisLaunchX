{
 "cells": [
  {
   "cell_type": "markdown",
   "metadata": {},
   "source": [
    "## Utlizar operadores artmeticos"
   ]
  },
  {
   "cell_type": "code",
   "execution_count": 13,
   "metadata": {},
   "outputs": [
    {
     "name": "stdout",
     "output_type": "stream",
     "text": [
      "La distancia entre la tierra y jupiter es de: 628949330 kilometros\n",
      "La distancia entre la tierra y jupiter es de: 390577533.93 millas\n"
     ]
    }
   ],
   "source": [
    "tierra = 149597870\n",
    "jupiter = 778547200\n",
    "\n",
    "distancia = abs(tierra - jupiter)\n",
    "print(f\"La distancia entre la tierra y jupiter es de: {distancia} kilometros\")\n",
    "\n",
    "millas = distancia * 0.621\n",
    "print(f'La distancia entre la tierra y jupiter es de: {millas} millas')\n",
    "\n"
   ]
  },
  {
   "cell_type": "markdown",
   "metadata": {},
   "source": [
    "## Conviercion de cadenas a numeros "
   ]
  },
  {
   "cell_type": "code",
   "execution_count": 4,
   "metadata": {},
   "outputs": [
    {
     "name": "stdout",
     "output_type": "stream",
     "text": [
      "La distancia entre los dos planetas es de: 10 kilometros\n",
      "La distancia entre los dos planetas es de: 10 millas\n"
     ]
    }
   ],
   "source": [
    "planeta_1 = int(input(\"Ingresa la distancia del primer planeta al sol\"))\n",
    "plantea_2 = int(input(\"Ingresa la distancia del segundo planeta al sol\"))\n",
    "\n",
    "distancia = abs(planeta_1 - plantea_2)\n",
    "print(f'La distancia entre los dos planetas es de: {distancia} kilometros')\n",
    "\n",
    "millas = distancia * 0.621\n",
    "print(f'La distancia entre los dos planetas es de: {distancia} millas')"
   ]
  }
 ],
 "metadata": {
  "interpreter": {
   "hash": "295126bd69f3363f756454f7242d2e419dd32ecf61b6529fd7621954a2cfccb0"
  },
  "kernelspec": {
   "display_name": "Python 3.10.2 64-bit",
   "language": "python",
   "name": "python3"
  },
  "language_info": {
   "codemirror_mode": {
    "name": "ipython",
    "version": 3
   },
   "file_extension": ".py",
   "mimetype": "text/x-python",
   "name": "python",
   "nbconvert_exporter": "python",
   "pygments_lexer": "ipython3",
   "version": "3.10.2"
  },
  "orig_nbformat": 4
 },
 "nbformat": 4,
 "nbformat_minor": 2
}
