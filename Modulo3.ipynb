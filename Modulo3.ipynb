{
 "cells": [
  {
   "cell_type": "markdown",
   "metadata": {},
   "source": [
    "## Advertencia asteroide 1"
   ]
  },
  {
   "cell_type": "code",
   "execution_count": 3,
   "metadata": {},
   "outputs": [
    {
     "name": "stdout",
     "output_type": "stream",
     "text": [
      "!Un asteroide se acerca a la tierra¡, Velocidad registrada 49 km/s\n"
     ]
    }
   ],
   "source": [
    "asteroide = 49\n",
    "\n",
    "if asteroide > 25:\n",
    "    print(\"¡Un asteroide se acerca a la tierra!,\", \"Velocidad registrada \" + str(asteroide) + \" km/s\")\n",
    "else:\n",
    "    print(\"No hay peligro de impacto,\", \"Velocidad registrada \" + str(asteroide) + \" km/s\")"
   ]
  },
  {
   "cell_type": "markdown",
   "metadata": {},
   "source": [
    "## Advertensia asteroide 2"
   ]
  },
  {
   "cell_type": "code",
   "execution_count": 1,
   "metadata": {},
   "outputs": [
    {
     "name": "stdout",
     "output_type": "stream",
     "text": [
      "Sin novedad en el cielo . . .\n"
     ]
    }
   ],
   "source": [
    "asteroide = 19\n",
    "\n",
    "if asteroide == 20:\n",
    "    print(\"¡Hay un rayo de luz emitido por un asteroide que entro a la atmosfera de la tierra!\")\n",
    "    print(\"Velocidad registrada del asteroide: \" + str(asteroide) + \"km/s\")\n",
    "elif asteroide > 20:\n",
    "    print(\"¡Hay un rayo de luz emitido por un asteroide que entro a la atmosfera de la tierr!\")\n",
    "    print(\"Velocidad registrada del asteroide: \" + str(asteroide) + \"km/s\")\n",
    "else:\n",
    "    print(\"Sin novedad en el cielo . . .\")"
   ]
  },
  {
   "cell_type": "markdown",
   "metadata": {},
   "source": [
    "## Advertencia asteroide 3"
   ]
  },
  {
   "cell_type": "code",
   "execution_count": 8,
   "metadata": {},
   "outputs": [
    {
     "name": "stdout",
     "output_type": "stream",
     "text": [
      "Look up! ¡hay una luz magica en el cielo!\n"
     ]
    }
   ],
   "source": [
    "velocidad = 25\n",
    "tamaño = 40\n",
    "\n",
    "if velocidad > 25 and tamaño > 25:\n",
    "    print(\"¡Alerta, un asteroide muy peligroso viene hacia la tierra!\")\n",
    "elif velocidad >= 20:\n",
    "    print(\"Look up! ¡hay una luz magica en el cielo!\")\n",
    "elif tamaño < 25:\n",
    "    print(\"¡Nada que ver aqui!\")\n",
    "else:\n",
    "    print(\"¡nada que ver aqui!\")"
   ]
  }
 ],
 "metadata": {
  "interpreter": {
   "hash": "e90c57e0621a4f3822bb6aacf47922675f49c1413435324d42f61edfb7928eb6"
  },
  "kernelspec": {
   "display_name": "Python 3.9.6 64-bit",
   "language": "python",
   "name": "python3"
  },
  "language_info": {
   "codemirror_mode": {
    "name": "ipython",
    "version": 3
   },
   "file_extension": ".py",
   "mimetype": "text/x-python",
   "name": "python",
   "nbconvert_exporter": "python",
   "pygments_lexer": "ipython3",
   "version": "3.9.6"
  },
  "orig_nbformat": 4
 },
 "nbformat": 4,
 "nbformat_minor": 2
}
