{
 "cells": [
  {
   "cell_type": "markdown",
   "metadata": {},
   "source": [
    "Tu primer programa"
   ]
  },
  {
   "cell_type": "code",
   "execution_count": null,
   "metadata": {},
   "outputs": [],
   "source": [
    "#Importacion de la libreria datetime\n",
    "from datetime import date\n",
    "#Variable con la fecha de hoy\n",
    "today = date.today()\n",
    "#Impresion de la fecha de hoy en consola\n",
    "print(\"today´s date is \" + str(today))"
   ]
  },
  {
   "cell_type": "markdown",
   "metadata": {},
   "source": [
    "Construir un convertidor de unidades"
   ]
  },
  {
   "cell_type": "code",
   "execution_count": 1,
   "metadata": {},
   "outputs": [
    {
     "name": "stdout",
     "output_type": "stream",
     "text": [
      "11 parsec, is 35.877159999999996 ligthyears\n"
     ]
    }
   ],
   "source": [
    "parsec = 11\n",
    "lightyears = 3.26156 * parsec\n",
    "\n",
    "#Impresion en conosla convirtiendo los valore int a str\n",
    "print(str(parsec) + \" parsec, is \" + str(lightyears) + \" ligthyears\")\n"
   ]
  }
 ],
 "metadata": {
  "interpreter": {
   "hash": "e90c57e0621a4f3822bb6aacf47922675f49c1413435324d42f61edfb7928eb6"
  },
  "kernelspec": {
   "display_name": "Python 3.9.6 64-bit",
   "language": "python",
   "name": "python3"
  },
  "language_info": {
   "codemirror_mode": {
    "name": "ipython",
    "version": 3
   },
   "file_extension": ".py",
   "mimetype": "text/x-python",
   "name": "python",
   "nbconvert_exporter": "python",
   "pygments_lexer": "ipython3",
   "version": "3.9.6"
  },
  "orig_nbformat": 4
 },
 "nbformat": 4,
 "nbformat_minor": 2
}
